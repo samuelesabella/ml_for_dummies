{
 "cells": [
  {
   "cell_type": "code",
   "execution_count": 1,
   "metadata": {},
   "outputs": [
    {
     "name": "stderr",
     "output_type": "stream",
     "text": [
      "Using TensorFlow backend.\n"
     ]
    }
   ],
   "source": [
    "import tensorflow as tf\n",
    "from keras.layers import Input, Reshape, Dense, Flatten, Conv2D, MaxPooling2D\n",
    "from keras.models import Model\n",
    "from keras.utils import to_categorical\n",
    "from keras.preprocessing.image import ImageDataGenerator\n",
    "from keras import backend as K\n",
    "\n",
    "import matplotlib.pyplot as plt\n",
    "from keras.datasets import mnist\n",
    "import numpy as np\n",
    "from scipy.spatial import distance\n",
    "\n",
    "from keras.utils import np_utils\n",
    "from keras.datasets import mnist\n",
    "\n",
    "seed = 1111\n",
    "np.random.seed(seed)\n",
    "tf.random.set_seed(seed+1)"
   ]
  },
  {
   "cell_type": "markdown",
   "metadata": {},
   "source": [
    "# Download and visualize the MNSIT datset"
   ]
  },
  {
   "cell_type": "markdown",
   "metadata": {},
   "source": [
    "First of all we download the mnist dataset. Because each image is represented with a 28x28 array with values in [0,255] we need to rescale values in [0,1] by diving each vector by 255"
   ]
  },
  {
   "cell_type": "code",
   "execution_count": 2,
   "metadata": {},
   "outputs": [],
   "source": [
    "(x_train, y_train), (x_test, y_test) = mnist.load_data();\n",
    "x_train = x_train.reshape(-1, 28, 28, 1) / 255\n",
    "x_test = x_test.reshape(-1, 28, 28, 1) / 255"
   ]
  },
  {
   "cell_type": "markdown",
   "metadata": {},
   "source": [
    "Now we visualize 10 images, 2 rows and 5 columns. For each image we generate a subplot"
   ]
  },
  {
   "cell_type": "code",
   "execution_count": 3,
   "metadata": {},
   "outputs": [
    {
     "data": {
      "image/png": "[encoded data removed]",
      "text/plain": [
       "<Figure size 432x288 with 10 Axes>"
      ]
     },
     "metadata": {
      "needs_background": "light"
     },
     "output_type": "display_data"
    }
   ],
   "source": [
    "rows = 2\n",
    "cols = 5\n",
    "\n",
    "mnist_batch = x_train[np.random.choice(x_train.shape[0], rows*cols, replace=False)]\n",
    "\n",
    "for idx,mnist_img in enumerate(mnist_batch):\n",
    "    plt.subplot(rows, cols, idx+1)\n",
    "    plt.axis(False)\n",
    "    plt.imshow(mnist_img.reshape(28,28), cmap='gray') \n",
    "    \n",
    "plt.show()"
   ]
  },
  {
   "cell_type": "markdown",
   "metadata": {},
   "source": [
    "# Data augmentation"
   ]
  },
  {
   "cell_type": "markdown",
   "metadata": {},
   "source": [
    "Mnist has already lot of different examples, so a step of data augmentation is not strictly needed. However in many cases data augmentation is very important and helps make the nn more robust, so it is interesting to see it."
   ]
  },
  {
   "cell_type": "code",
   "execution_count": 4,
   "metadata": {},
   "outputs": [],
   "source": [
    "datagen = ImageDataGenerator(\n",
    "    rotation_range=30,\n",
    "    width_shift_range=0.2,\n",
    "    height_shift_range=0.2)\n",
    "datagen.fit(x_train)"
   ]
  },
  {
   "cell_type": "markdown",
   "metadata": {},
   "source": [
    "We visualize the augmentation relation in one batch of 10 examples"
   ]
  },
  {
   "cell_type": "code",
   "execution_count": 7,
   "metadata": {},
   "outputs": [
    {
     "data": {
      "image/png": "[encoded data removed]",
      "text/plain": [
       "<Figure size 432x288 with 10 Axes>"
      ]
     },
     "metadata": {
      "needs_background": "light"
     },
     "output_type": "display_data"
    }
   ],
   "source": [
    "rows = 2\n",
    "cols = 5\n",
    "batch = next(datagen.flow(x_train, y_train, batch_size=(rows*cols)))[0]\n",
    "\n",
    "for idx,augm_img in enumerate(batch):\n",
    "    plt.subplot(rows, cols, idx+1)\n",
    "    plt.axis(False)\n",
    "    plt.imshow(augm_img.reshape(28,28), cmap='gray') \n",
    "    \n",
    "plt.show()"
   ]
  },
  {
   "cell_type": "markdown",
   "metadata": {},
   "source": [
    "# One hot encoding"
   ]
  },
  {
   "cell_type": "markdown",
   "metadata": {},
   "source": [
    "In the last layer we will have the probabilities of each number. So, before start training we need to convert the target output to one-hot encoding"
   ]
  },
  {
   "cell_type": "code",
   "execution_count": 8,
   "metadata": {},
   "outputs": [
    {
     "name": "stdout",
     "output_type": "stream",
     "text": [
      "Shape before one-hot encoding: (60000,) \n",
      "\ty_train[0]-> 5\n",
      "Shape after one-hot encoding: (60000, 10) \n",
      "\tY_train[0]-> [0. 0. 0. 0. 0. 1. 0. 0. 0. 0.]\n"
     ]
    }
   ],
   "source": [
    "nclasses = 10\n",
    "\n",
    "print(f\"Shape before one-hot encoding: {y_train.shape} \\n\\ty_train[0]-> {y_train[0]}\")\n",
    "Y_train = np_utils.to_categorical(y_train, nclasses)\n",
    "Y_test = np_utils.to_categorical(y_test, nclasses)\n",
    "print(f\"Shape after one-hot encoding: {Y_train.shape} \\n\\tY_train[0]-> {Y_train[0]}\")"
   ]
  },
  {
   "cell_type": "markdown",
   "metadata": {},
   "source": [
    "# Architecture and fit"
   ]
  },
  {
   "cell_type": "markdown",
   "metadata": {},
   "source": [
    "The other renderings are done with http://alexlenail.me/NN-SVG/LeNet.html"
   ]
  },
  {
   "cell_type": "code",
   "execution_count": 9,
   "metadata": {},
   "outputs": [],
   "source": [
    "input_img = Input(shape=(28, 28, 1))\n",
    "\n",
    "x = Conv2D(16, (3, 3), activation='relu', padding='same')(input_img)\n",
    "x = MaxPooling2D((2, 2), padding='same')(x)\n",
    "x = Conv2D(32, (3, 3), activation='relu', padding='same')(x)\n",
    "x = MaxPooling2D((2, 2), padding='same')(x)\n",
    "x = Flatten()(x)\n",
    "out = Dense(10, activation='softmax')(x)\n",
    "\n",
    "cnn = Model(input_img, out)\n",
    "cnn.compile(optimizer='adam', loss='categorical_crossentropy', metrics=['accuracy'])\n",
    "\n",
    "tf.keras.utils.plot_model(cnn, to_file='cnn_rendering/keras_plot.png',show_shapes=True);"
   ]
  },
  {
   "cell_type": "code",
   "execution_count": 10,
   "metadata": {},
   "outputs": [
    {
     "name": "stdout",
     "output_type": "stream",
     "text": [
      "Epoch 1/2\n",
      "1875/1875 [==============================] - 55s 29ms/step - loss: 0.7955 - accuracy: 0.7445 - val_loss: 0.3964 - val_accuracy: 0.8438\n",
      "Epoch 2/2\n",
      "1875/1875 [==============================] - 55s 29ms/step - loss: 0.4046 - accuracy: 0.8798 - val_loss: 0.1971 - val_accuracy: 0.9095\n"
     ]
    }
   ],
   "source": [
    "EPOCHS = 2\n",
    "BATCH_SIZE = 32\n",
    "STEPS_EPOCH = len(x_train) / BATCH_SIZE\n",
    "history = cnn.fit_generator(datagen.flow(x_train, Y_train, batch_size=BATCH_SIZE),\n",
    "                  shuffle=True,\n",
    "                  validation_data=datagen.flow(x_test, Y_test, batch_size=BATCH_SIZE),\n",
    "                  steps_per_epoch=STEPS_EPOCH, epochs=EPOCHS).history"
   ]
  },
  {
   "cell_type": "markdown",
   "metadata": {},
   "source": [
    "# Test the neural net"
   ]
  },
  {
   "cell_type": "code",
   "execution_count": 12,
   "metadata": {},
   "outputs": [],
   "source": [
    "from ipycanvas import Canvas\n",
    "from math import pi\n",
    "import cv2\n",
    "import matplotlib.pyplot as plt\n",
    "import ipywidgets as widgets\n",
    "from IPython.display import display"
   ]
  },
  {
   "cell_type": "markdown",
   "metadata": {},
   "source": [
    "We can now create a canvas and bind functions to events"
   ]
  },
  {
   "cell_type": "code",
   "execution_count": 20,
   "metadata": {},
   "outputs": [
    {
     "data": {
      "application/vnd.jupyter.widget-view+json": {
       "model_id": "dc50d3804c3c4eedb1042cc80c65d244",
       "version_major": 2,
       "version_minor": 0
      },
      "text/plain": [
       "Button(description='Clear', style=ButtonStyle())"
      ]
     },
     "metadata": {},
     "output_type": "display_data"
    },
    {
     "data": {
      "application/vnd.jupyter.widget-view+json": {
       "model_id": "b00b11b911a54f7c9ef8219de812e796",
       "version_major": 2,
       "version_minor": 0
      },
      "text/plain": [
       "Output()"
      ]
     },
     "metadata": {},
     "output_type": "display_data"
    },
    {
     "data": {
      "application/vnd.jupyter.widget-view+json": {
       "model_id": "e20857ab05144553bed5a9c8f3d5c252",
       "version_major": 2,
       "version_minor": 0
      },
      "text/plain": [
       "Canvas(layout=Layout(height='420px', width='420px'), size=(420, 420), sync_image_data=True)"
      ]
     },
     "metadata": {},
     "output_type": "display_data"
    }
   ],
   "source": [
    "button = widgets.Button(description=\"Clear\")\n",
    "output = widgets.Output()\n",
    "display(button, output)\n",
    "    \n",
    "canvas = Canvas(size=(420, 420), sync_image_data=True)\n",
    "\n",
    "def on_button_clicked(b):\n",
    "    canvas.clear()\n",
    "\n",
    "def handle_mouse_move(x, y):\n",
    "    global mouse_down\n",
    "    if mouse_down:\n",
    "        canvas.fill_style = 'black'\n",
    "        canvas.stroke_style = 'black'\n",
    "        canvas.fill_arc(x, y, 20, 0, 2 * pi)\n",
    "\n",
    "def handle_mouse_down(x, y):\n",
    "    global mouse_down\n",
    "    mouse_down = True\n",
    "\n",
    "def handle_mouse_up(x, y):\n",
    "    global mouse_down\n",
    "    mouse_down = False\n",
    "\n",
    "canvas.on_mouse_move(handle_mouse_move)\n",
    "canvas.on_mouse_down(handle_mouse_down)\n",
    "canvas.on_mouse_up(handle_mouse_up)\n",
    "button.on_click(on_button_clicked)\n",
    "\n",
    "canvas"
   ]
  },
  {
   "cell_type": "markdown",
   "metadata": {},
   "source": [
    "The next step is to get the image from the canvas and use our net to predict the result. Because the canvas returns us a 3 channel input we have make it collapse on a simple channel by taking tha maximum of each channel"
   ]
  },
  {
   "cell_type": "code",
   "execution_count": 21,
   "metadata": {},
   "outputs": [
    {
     "name": "stdout",
     "output_type": "stream",
     "text": [
      "3\n"
     ]
    },
    {
     "data": {
      "image/png": "[encoded data removed]",
      "text/plain": [
       "<Figure size 432x288 with 1 Axes>"
      ]
     },
     "metadata": {
      "needs_background": "light"
     },
     "output_type": "display_data"
    }
   ],
   "source": [
    "arr1 = canvas.get_image_data()\n",
    "usample = cv2.resize(arr1, dsize=(28, 28), interpolation=cv2.INTER_AREA) / 255 \n",
    "\n",
    "plt.imshow(usample)\n",
    "\n",
    "usample = np.apply_along_axis(lambda x: max(x), 2, usample)\n",
    "prediction = cnn.predict(usample.reshape(1,28,28,1))\n",
    "print(np.argmax(prediction[0]))"
   ]
  },
  {
   "cell_type": "code",
   "execution_count": null,
   "metadata": {},
   "outputs": [],
   "source": []
  }
 ],
 "metadata": {
  "kernelspec": {
   "display_name": "Python 3",
   "language": "python",
   "name": "python3"
  },
  "language_info": {
   "codemirror_mode": {
    "name": "ipython",
    "version": 3
   },
   "file_extension": ".py",
   "mimetype": "text/x-python",
   "name": "python",
   "nbconvert_exporter": "python",
   "pygments_lexer": "ipython3",
   "version": "3.7.5"
  }
 },
 "nbformat": 4,
 "nbformat_minor": 4
}
